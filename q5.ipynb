{
  "nbformat": 4,
  "nbformat_minor": 0,
  "metadata": {
    "colab": {
      "name": "q5.ipynb",
      "provenance": [],
      "collapsed_sections": []
    },
    "kernelspec": {
      "name": "python3",
      "display_name": "Python 3"
    },
    "language_info": {
      "name": "python"
    }
  },
  "cells": [
    {
      "cell_type": "code",
      "execution_count": 4,
      "metadata": {
        "id": "K_q-NJG90Wpt"
      },
      "outputs": [],
      "source": [
        "import pandas as pd\n",
        "import statistics"
      ]
    },
    {
      "cell_type": "code",
      "source": [
        "data = pd.read_csv(\"country_vaccination_stats.csv\")"
      ],
      "metadata": {
        "id": "dLpBaNVk0jCZ"
      },
      "execution_count": 2,
      "outputs": []
    },
    {
      "cell_type": "code",
      "source": [
        "data"
      ],
      "metadata": {
        "colab": {
          "base_uri": "https://localhost:8080/",
          "height": 424
        },
        "id": "qKtVbrZo0l0Y",
        "outputId": "fed66ce5-7ed1-4a4f-8567-e3814ad55daa"
      },
      "execution_count": 3,
      "outputs": [
        {
          "output_type": "execute_result",
          "data": {
            "text/plain": [
              "        country        date  daily_vaccinations  \\\n",
              "0     Argentina  12/29/2020                 NaN   \n",
              "1     Argentina  12/30/2020             15656.0   \n",
              "2     Argentina  12/31/2020             15656.0   \n",
              "3     Argentina    1/1/2021             11070.0   \n",
              "4     Argentina    1/2/2021              8776.0   \n",
              "...         ...         ...                 ...   \n",
              "1497      Wales   1/20/2021             11105.0   \n",
              "1498      Wales   1/21/2021             12318.0   \n",
              "1499      Wales   1/22/2021             15148.0   \n",
              "1500      Wales   1/23/2021             17371.0   \n",
              "1501      Wales   1/24/2021             17063.0   \n",
              "\n",
              "                                 vaccines  \n",
              "0                               Sputnik V  \n",
              "1                               Sputnik V  \n",
              "2                               Sputnik V  \n",
              "3                               Sputnik V  \n",
              "4                               Sputnik V  \n",
              "...                                   ...  \n",
              "1497  Oxford/AstraZeneca, Pfizer/BioNTech  \n",
              "1498  Oxford/AstraZeneca, Pfizer/BioNTech  \n",
              "1499  Oxford/AstraZeneca, Pfizer/BioNTech  \n",
              "1500  Oxford/AstraZeneca, Pfizer/BioNTech  \n",
              "1501  Oxford/AstraZeneca, Pfizer/BioNTech  \n",
              "\n",
              "[1502 rows x 4 columns]"
            ],
            "text/html": [
              "\n",
              "  <div id=\"df-b8b13b99-6c28-41e9-b91f-2bfe9cb298bf\">\n",
              "    <div class=\"colab-df-container\">\n",
              "      <div>\n",
              "<style scoped>\n",
              "    .dataframe tbody tr th:only-of-type {\n",
              "        vertical-align: middle;\n",
              "    }\n",
              "\n",
              "    .dataframe tbody tr th {\n",
              "        vertical-align: top;\n",
              "    }\n",
              "\n",
              "    .dataframe thead th {\n",
              "        text-align: right;\n",
              "    }\n",
              "</style>\n",
              "<table border=\"1\" class=\"dataframe\">\n",
              "  <thead>\n",
              "    <tr style=\"text-align: right;\">\n",
              "      <th></th>\n",
              "      <th>country</th>\n",
              "      <th>date</th>\n",
              "      <th>daily_vaccinations</th>\n",
              "      <th>vaccines</th>\n",
              "    </tr>\n",
              "  </thead>\n",
              "  <tbody>\n",
              "    <tr>\n",
              "      <th>0</th>\n",
              "      <td>Argentina</td>\n",
              "      <td>12/29/2020</td>\n",
              "      <td>NaN</td>\n",
              "      <td>Sputnik V</td>\n",
              "    </tr>\n",
              "    <tr>\n",
              "      <th>1</th>\n",
              "      <td>Argentina</td>\n",
              "      <td>12/30/2020</td>\n",
              "      <td>15656.0</td>\n",
              "      <td>Sputnik V</td>\n",
              "    </tr>\n",
              "    <tr>\n",
              "      <th>2</th>\n",
              "      <td>Argentina</td>\n",
              "      <td>12/31/2020</td>\n",
              "      <td>15656.0</td>\n",
              "      <td>Sputnik V</td>\n",
              "    </tr>\n",
              "    <tr>\n",
              "      <th>3</th>\n",
              "      <td>Argentina</td>\n",
              "      <td>1/1/2021</td>\n",
              "      <td>11070.0</td>\n",
              "      <td>Sputnik V</td>\n",
              "    </tr>\n",
              "    <tr>\n",
              "      <th>4</th>\n",
              "      <td>Argentina</td>\n",
              "      <td>1/2/2021</td>\n",
              "      <td>8776.0</td>\n",
              "      <td>Sputnik V</td>\n",
              "    </tr>\n",
              "    <tr>\n",
              "      <th>...</th>\n",
              "      <td>...</td>\n",
              "      <td>...</td>\n",
              "      <td>...</td>\n",
              "      <td>...</td>\n",
              "    </tr>\n",
              "    <tr>\n",
              "      <th>1497</th>\n",
              "      <td>Wales</td>\n",
              "      <td>1/20/2021</td>\n",
              "      <td>11105.0</td>\n",
              "      <td>Oxford/AstraZeneca, Pfizer/BioNTech</td>\n",
              "    </tr>\n",
              "    <tr>\n",
              "      <th>1498</th>\n",
              "      <td>Wales</td>\n",
              "      <td>1/21/2021</td>\n",
              "      <td>12318.0</td>\n",
              "      <td>Oxford/AstraZeneca, Pfizer/BioNTech</td>\n",
              "    </tr>\n",
              "    <tr>\n",
              "      <th>1499</th>\n",
              "      <td>Wales</td>\n",
              "      <td>1/22/2021</td>\n",
              "      <td>15148.0</td>\n",
              "      <td>Oxford/AstraZeneca, Pfizer/BioNTech</td>\n",
              "    </tr>\n",
              "    <tr>\n",
              "      <th>1500</th>\n",
              "      <td>Wales</td>\n",
              "      <td>1/23/2021</td>\n",
              "      <td>17371.0</td>\n",
              "      <td>Oxford/AstraZeneca, Pfizer/BioNTech</td>\n",
              "    </tr>\n",
              "    <tr>\n",
              "      <th>1501</th>\n",
              "      <td>Wales</td>\n",
              "      <td>1/24/2021</td>\n",
              "      <td>17063.0</td>\n",
              "      <td>Oxford/AstraZeneca, Pfizer/BioNTech</td>\n",
              "    </tr>\n",
              "  </tbody>\n",
              "</table>\n",
              "<p>1502 rows × 4 columns</p>\n",
              "</div>\n",
              "      <button class=\"colab-df-convert\" onclick=\"convertToInteractive('df-b8b13b99-6c28-41e9-b91f-2bfe9cb298bf')\"\n",
              "              title=\"Convert this dataframe to an interactive table.\"\n",
              "              style=\"display:none;\">\n",
              "        \n",
              "  <svg xmlns=\"http://www.w3.org/2000/svg\" height=\"24px\"viewBox=\"0 0 24 24\"\n",
              "       width=\"24px\">\n",
              "    <path d=\"M0 0h24v24H0V0z\" fill=\"none\"/>\n",
              "    <path d=\"M18.56 5.44l.94 2.06.94-2.06 2.06-.94-2.06-.94-.94-2.06-.94 2.06-2.06.94zm-11 1L8.5 8.5l.94-2.06 2.06-.94-2.06-.94L8.5 2.5l-.94 2.06-2.06.94zm10 10l.94 2.06.94-2.06 2.06-.94-2.06-.94-.94-2.06-.94 2.06-2.06.94z\"/><path d=\"M17.41 7.96l-1.37-1.37c-.4-.4-.92-.59-1.43-.59-.52 0-1.04.2-1.43.59L10.3 9.45l-7.72 7.72c-.78.78-.78 2.05 0 2.83L4 21.41c.39.39.9.59 1.41.59.51 0 1.02-.2 1.41-.59l7.78-7.78 2.81-2.81c.8-.78.8-2.07 0-2.86zM5.41 20L4 18.59l7.72-7.72 1.47 1.35L5.41 20z\"/>\n",
              "  </svg>\n",
              "      </button>\n",
              "      \n",
              "  <style>\n",
              "    .colab-df-container {\n",
              "      display:flex;\n",
              "      flex-wrap:wrap;\n",
              "      gap: 12px;\n",
              "    }\n",
              "\n",
              "    .colab-df-convert {\n",
              "      background-color: #E8F0FE;\n",
              "      border: none;\n",
              "      border-radius: 50%;\n",
              "      cursor: pointer;\n",
              "      display: none;\n",
              "      fill: #1967D2;\n",
              "      height: 32px;\n",
              "      padding: 0 0 0 0;\n",
              "      width: 32px;\n",
              "    }\n",
              "\n",
              "    .colab-df-convert:hover {\n",
              "      background-color: #E2EBFA;\n",
              "      box-shadow: 0px 1px 2px rgba(60, 64, 67, 0.3), 0px 1px 3px 1px rgba(60, 64, 67, 0.15);\n",
              "      fill: #174EA6;\n",
              "    }\n",
              "\n",
              "    [theme=dark] .colab-df-convert {\n",
              "      background-color: #3B4455;\n",
              "      fill: #D2E3FC;\n",
              "    }\n",
              "\n",
              "    [theme=dark] .colab-df-convert:hover {\n",
              "      background-color: #434B5C;\n",
              "      box-shadow: 0px 1px 3px 1px rgba(0, 0, 0, 0.15);\n",
              "      filter: drop-shadow(0px 1px 2px rgba(0, 0, 0, 0.3));\n",
              "      fill: #FFFFFF;\n",
              "    }\n",
              "  </style>\n",
              "\n",
              "      <script>\n",
              "        const buttonEl =\n",
              "          document.querySelector('#df-b8b13b99-6c28-41e9-b91f-2bfe9cb298bf button.colab-df-convert');\n",
              "        buttonEl.style.display =\n",
              "          google.colab.kernel.accessAllowed ? 'block' : 'none';\n",
              "\n",
              "        async function convertToInteractive(key) {\n",
              "          const element = document.querySelector('#df-b8b13b99-6c28-41e9-b91f-2bfe9cb298bf');\n",
              "          const dataTable =\n",
              "            await google.colab.kernel.invokeFunction('convertToInteractive',\n",
              "                                                     [key], {});\n",
              "          if (!dataTable) return;\n",
              "\n",
              "          const docLinkHtml = 'Like what you see? Visit the ' +\n",
              "            '<a target=\"_blank\" href=https://colab.research.google.com/notebooks/data_table.ipynb>data table notebook</a>'\n",
              "            + ' to learn more about interactive tables.';\n",
              "          element.innerHTML = '';\n",
              "          dataTable['output_type'] = 'display_data';\n",
              "          await google.colab.output.renderOutput(dataTable, element);\n",
              "          const docLink = document.createElement('div');\n",
              "          docLink.innerHTML = docLinkHtml;\n",
              "          element.appendChild(docLink);\n",
              "        }\n",
              "      </script>\n",
              "    </div>\n",
              "  </div>\n",
              "  "
            ]
          },
          "metadata": {},
          "execution_count": 3
        }
      ]
    },
    {
      "cell_type": "code",
      "source": [
        "medians = {}"
      ],
      "metadata": {
        "id": "9njGuxHn3Op5"
      },
      "execution_count": 52,
      "outputs": []
    },
    {
      "cell_type": "code",
      "source": [
        "for column in data.iloc[:,0]:\n",
        "  selected_country = data[data[\"country\"] == column]\n",
        "  median = statistics.median(selected_country[\"daily_vaccinations\"])\n",
        " # medians[column] = \"column\"\n",
        "  #medians[median] = \"median\"\n",
        "  medians[column] = median"
      ],
      "metadata": {
        "id": "qLya0Uvg0toB"
      },
      "execution_count": 53,
      "outputs": []
    },
    {
      "cell_type": "code",
      "source": [
        "sorted_medians = sorted(medians.items(), key = lambda kv: kv[1])"
      ],
      "metadata": {
        "id": "A_q3yYjJ_p5N"
      },
      "execution_count": 89,
      "outputs": []
    },
    {
      "cell_type": "code",
      "source": [
        "sorted_medians"
      ],
      "metadata": {
        "colab": {
          "base_uri": "https://localhost:8080/"
        },
        "id": "fEL68MmhAqAL",
        "outputId": "8c1cb488-4dab-426b-98d7-f191b47bd65c"
      },
      "execution_count": 90,
      "outputs": [
        {
          "output_type": "execute_result",
          "data": {
            "text/plain": [
              "[('Iceland', 63.0),\n",
              " ('Luxembourg', 88.0),\n",
              " ('Isle of Man', 138.0),\n",
              " ('Malta', 407.5),\n",
              " ('Latvia', 592.0),\n",
              " ('Costa Rica', 675.5),\n",
              " ('Cyprus', 708.0),\n",
              " ('Gibraltar', 713.0),\n",
              " ('Seychelles', 1000.0),\n",
              " ('Bulgaria', 1010.0),\n",
              " ('Estonia', 1043.0),\n",
              " ('Oman', 1192.0),\n",
              " ('Chile', 1291.0),\n",
              " ('Panama', 1324.0),\n",
              " ('Lithuania', 1933.5),\n",
              " ('Finland', 2035.5),\n",
              " ('Northern Ireland', 2135.0),\n",
              " ('Wales', 2198.0),\n",
              " ('Slovenia', 2374.0),\n",
              " ('Croatia', 2485.0),\n",
              " ('Serbia', 2920.0),\n",
              " ('Norway', 2958.0),\n",
              " ('Switzerland', 3000.0),\n",
              " ('Belgium', 3606.0),\n",
              " ('Bahrain', 3662.0),\n",
              " ('Singapore', 4907.0),\n",
              " ('Greece', 5290.0),\n",
              " ('Slovakia', 5357.0),\n",
              " ('Czechia', 5378.0),\n",
              " ('Sweden', 5382.5),\n",
              " ('Hungary', 5464.5),\n",
              " ('Mexico', 5488.0),\n",
              " ('Scotland', 5821.0),\n",
              " ('Portugal', 5944.0),\n",
              " ('Ireland', 6528.0),\n",
              " ('Netherlands', 6762.0),\n",
              " ('Denmark', 7095.5),\n",
              " ('Austria', 7850.0),\n",
              " ('Canada', 11044.0),\n",
              " ('Argentina', 11645.0),\n",
              " ('Romania', 13030.0),\n",
              " ('Indonesia', 13200.0),\n",
              " ('Saudi Arabia', 16807.5),\n",
              " ('Brazil', 17220.0),\n",
              " ('Poland', 22702.5),\n",
              " ('Russia', 23563.0),\n",
              " ('France', 41496.0),\n",
              " ('Italy', 44475.5),\n",
              " ('Germany', 51184.0),\n",
              " ('Spain', 55238.0),\n",
              " ('United Arab Emirates', 86430.0),\n",
              " ('Israel', 92587.0),\n",
              " ('England', 107310.5),\n",
              " ('United Kingdom', 120409.0),\n",
              " ('China', 276786.0),\n",
              " ('Ecuador', nan),\n",
              " ('India', 173922.0),\n",
              " ('Kuwait', nan),\n",
              " ('Turkey', 150356.0),\n",
              " ('United States', 378253.0)]"
            ]
          },
          "metadata": {},
          "execution_count": 90
        }
      ]
    },
    {
      "cell_type": "code",
      "source": [
        "for x in list(reversed(list(sorted_medians)))[0:3]:\n",
        "    print (x)"
      ],
      "metadata": {
        "colab": {
          "base_uri": "https://localhost:8080/"
        },
        "id": "lIaaRRGlA_GI",
        "outputId": "e3a3bafa-f79d-40e9-9853-7750c231f6c7"
      },
      "execution_count": 91,
      "outputs": [
        {
          "output_type": "stream",
          "name": "stdout",
          "text": [
            "('United States', 378253.0)\n",
            "('Turkey', 150356.0)\n",
            "('Kuwait', nan)\n"
          ]
        }
      ]
    }
  ]
}